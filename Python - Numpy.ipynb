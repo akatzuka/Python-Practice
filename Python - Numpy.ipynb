{
 "cells": [
  {
   "cell_type": "markdown",
   "metadata": {},
   "source": [
    "# Array Methods"
   ]
  },
  {
   "cell_type": "markdown",
   "metadata": {},
   "source": [
    "## Array Conversion"
   ]
  },
  {
   "cell_type": "markdown",
   "metadata": {},
   "source": [
    "\n",
    "ndarray.item(*args)\t\n",
    ">Copy an element of an array to a standard Python scalar and return it.\n",
    "\n",
    "ndarray.tolist()\t\n",
    ">Return the array as an a.ndim-levels deep nested list of Python scalars.\n",
    "\n",
    "ndarray.itemset(*args)\t\n",
    ">Insert scalar into an array (scalar is cast to array’s dtype, if possible)\n",
    "\n",
    "ndarray.tostring([order])\t\n",
    ">Construct Python bytes containing the raw data bytes in the array.\n",
    "\n",
    "ndarray.tobytes([order])\t\n",
    ">Construct Python bytes containing the raw data bytes in the array.\n",
    "\n",
    "ndarray.tofile(fid[, sep, format])\t\n",
    ">Write array to a file as text or binary (default).\n",
    "\n",
    "ndarray.dump(file)\t\n",
    ">Dump a pickle of the array to the specified file.\n",
    "\n",
    "ndarray.dumps()\t\n",
    ">Returns the pickle of the array as a string.\n",
    "\n",
    "ndarray.astype(dtype[, order, casting, …])\t\n",
    ">Copy of the array, cast to a specified type.\n",
    "\n",
    "ndarray.byteswap([inplace])\t\n",
    ">Swap the bytes of the array elements\n",
    "\n",
    "ndarray.copy([order])\t\n",
    ">Return a copy of the array.\n",
    "\n",
    "ndarray.view([dtype, type])\t\n",
    ">New view of array with the same data.\n",
    "\n",
    "ndarray.getfield(dtype[, offset])\t\n",
    ">Returns a field of the given array as a certain type.\n",
    "\n",
    "ndarray.setflags([write, align, uic])\t\n",
    ">Set array flags WRITEABLE, ALIGNED, (WRITEBACKIFCOPY and UPDATEIFCOPY), respectively.\n",
    "\n",
    "ndarray.fill(value)\t\n",
    ">Fill the array with a scalar value."
   ]
  },
  {
   "cell_type": "markdown",
   "metadata": {},
   "source": [
    "## Shape Manipulation"
   ]
  },
  {
   "cell_type": "markdown",
   "metadata": {},
   "source": [
    "For reshape, resize, and transpose, the single tuple argument may be replaced with n integers which will be interpreted as an n-tuple.\n",
    "\n",
    "ndarray.reshape(shape[, order])\n",
    ">Returns an array containing the same data with a new shape.\n",
    "\n",
    "ndarray.resize(new_shape[, refcheck])\t\n",
    ">Change shape and size of array in-place.\n",
    "\n",
    "ndarray.transpose(*axes)\t\n",
    ">Returns a view of the array with axes transposed.\n",
    "\n",
    "ndarray.swapaxes(axis1, axis2)\t\n",
    ">Return a view of the array with axis1 and axis2 interchanged.\n",
    "\n",
    "ndarray.flatten([order])\t\n",
    ">Return a copy of the array collapsed into one dimension.\n",
    "\n",
    "ndarray.ravel([order])\t\n",
    ">Return a flattened array.\n",
    "\n",
    "ndarray.squeeze([axis])\t\n",
    ">Remove single-dimensional entries from the shape of a."
   ]
  },
  {
   "cell_type": "markdown",
   "metadata": {},
   "source": [
    "## Item selection and manipulation"
   ]
  },
  {
   "cell_type": "markdown",
   "metadata": {},
   "source": [
    "For array methods that take an axis keyword, it defaults to None. If axis is None, then the array is treated as a 1-D array. Any other value for axis represents the dimension along which the operation should proceed.\n",
    "\n",
    "ndarray.take(indices[, axis, out, mode])\t\n",
    ">Return an array formed from the elements of a at the given indices.\n",
    "\n",
    "ndarray.put(indices, values[, mode])\t\n",
    ">Set a.flat[n] = values[n] for all n in indices.\n",
    "\n",
    "ndarray.repeat(repeats[, axis])\t\n",
    ">Repeat elements of an array.\n",
    "\n",
    "ndarray.choose(choices[, out, mode])\t\n",
    ">Use an index array to construct a new array from a set of choices.\n",
    "\n",
    "ndarray.sort([axis, kind, order])\t\n",
    ">Sort an array in-place.\n",
    "\n",
    "ndarray.argsort([axis, kind, order])\t\n",
    ">Returns the indices that would sort this array.\n",
    "\n",
    "ndarray.partition(kth[, axis, kind, order])\t\n",
    ">Rearranges the elements in the array in such a way that the value of the element in kth position is in the position it would be in a sorted array.\n",
    "\n",
    "ndarray.argpartition(kth[, axis, kind, order])\t\n",
    ">Returns the indices that would partition this array.\n",
    "\n",
    "ndarray.searchsorted(v[, side, sorter])\t\n",
    ">Find indices where elements of v should be inserted in a to maintain order.\n",
    "\n",
    "ndarray.nonzero()\t\n",
    ">Return the indices of the elements that are non-zero.\n",
    "\n",
    "ndarray.compress(condition[, axis, out])\t\n",
    ">Return selected slices of this array along given axis.\n",
    "\n",
    "ndarray.diagonal([offset, axis1, axis2])\t\n",
    ">Return specified diagonals."
   ]
  },
  {
   "cell_type": "markdown",
   "metadata": {},
   "source": [
    "## Calculation"
   ]
  },
  {
   "cell_type": "markdown",
   "metadata": {},
   "source": [
    "Many of these methods take an argument named axis. In such cases,\n",
    "\n",
    "-If axis is None (the default), the array is treated as a 1-D array and the operation is performed over the entire array. This behavior is also the default if self is a 0-dimensional array or array scalar. (An array scalar is an instance of the types/classes float32, float64, etc., whereas a 0-dimensional array is an ndarray instance containing precisely one array scalar.)\n",
    "\n",
    "-If axis is an integer, then the operation is done over the given axis (for each 1-D subarray that can be created along the given axis).\n",
    "\n",
    "\n",
    "ndarray.max([axis, out, keepdims, initial, …])\t\n",
    ">Return the maximum along a given axis.\n",
    "\n",
    "ndarray.argmax([axis, out])\t\n",
    ">Return indices of the maximum values along the given axis.\n",
    "\n",
    "ndarray.min([axis, out, keepdims, initial, …])\t\n",
    ">Return the minimum along a given axis.\n",
    "\n",
    "ndarray.argmin([axis, out])\t\n",
    ">Return indices of the minimum values along the given axis of a.\n",
    "\n",
    "ndarray.ptp([axis, out, keepdims])\t\n",
    ">Peak to peak (maximum - minimum) value along a given axis.\n",
    "\n",
    "ndarray.clip([min, max, out])\t\n",
    ">Return an array whose values are limited to [min, max].\n",
    "\n",
    "ndarray.conj()\t\n",
    ">Complex-conjugate all elements.\n",
    "\n",
    "ndarray.round([decimals, out])\t\n",
    ">Return a with each element rounded to the given number of decimals.\n",
    "\n",
    "ndarray.trace([offset, axis1, axis2, dtype, out])\t\n",
    ">Return the sum along diagonals of the array.\n",
    "\n",
    "ndarray.sum([axis, dtype, out, keepdims, …])\t\n",
    ">Return the sum of the array elements over the given axis.\n",
    "\n",
    "ndarray.cumsum([axis, dtype, out])\t\n",
    ">Return the cumulative sum of the elements along the given axis.\n",
    "\n",
    "ndarray.mean([axis, dtype, out, keepdims])\t\n",
    ">Returns the average of the array elements along given axis.\n",
    "\n",
    "ndarray.var([axis, dtype, out, ddof, keepdims])\t\n",
    ">Returns the variance of the array elements, along given axis.\n",
    "\n",
    "ndarray.std([axis, dtype, out, ddof, keepdims])\t\n",
    ">Returns the standard deviation of the array elements along given axis.\n",
    "\n",
    "ndarray.prod([axis, dtype, out, keepdims, …])\t\n",
    ">Return the product of the array elements over the given axis\n",
    "\n",
    "ndarray.cumprod([axis, dtype, out])\t\n",
    ">Return the cumulative product of the elements along the given axis.\n",
    "\n",
    "ndarray.all([axis, out, keepdims])\t\n",
    ">Returns True if all elements evaluate to True.\n",
    "\n",
    "ndarray.any([axis, out, keepdims])\t\n",
    ">Returns True if any of the elements of a evaluate to True."
   ]
  },
  {
   "cell_type": "markdown",
   "metadata": {},
   "source": [
    "## Arithmetic, matrix multiplication, and comparison operations"
   ]
  },
  {
   "cell_type": "markdown",
   "metadata": {},
   "source": [
    "Arithmetic and comparison operations on ndarrays are defined as element-wise operations, and generally yield ndarray objects as results.\n",
    "\n",
    "Each of the arithmetic operations (+, -, *, /, //, %, divmod(), ** or pow(), <<, >>, &, ^, |, ~) and the comparisons (==, <, >, <=, >=, !=) is equivalent to the corresponding universal function (or ufunc for short) in NumPy. For more information, see the section on Universal Functions."
   ]
  },
  {
   "cell_type": "markdown",
   "metadata": {},
   "source": [
    "### Comparison operators:"
   ]
  },
  {
   "cell_type": "markdown",
   "metadata": {},
   "source": [
    "ndarray.__lt__(self, value, /)\t\n",
    ">Return self<value.\n",
    "\n",
    "ndarray.__le__(self, value, /)\t\n",
    ">Return self<=value.\n",
    "\n",
    "ndarray.__gt__(self, value, /)\t\n",
    ">Return self>value.\n",
    "\n",
    "ndarray.__ge__(self, value, /)\t\n",
    ">Return self>=value.\n",
    "\n",
    "ndarray.__eq__(self, value, /)\t\n",
    ">Return self==value.\n",
    "\n",
    "ndarray.__ne__(self, value, /)\t\n",
    ">Return self!=value."
   ]
  },
  {
   "cell_type": "markdown",
   "metadata": {},
   "source": [
    "### Truth value of an array (bool):"
   ]
  },
  {
   "cell_type": "markdown",
   "metadata": {},
   "source": [
    "ndarray.__bool__(self, /)\t\n",
    ">self != 0\n",
    "\n",
    "Note\n",
    ">Truth-value testing of an array invokes ndarray.__bool__, which raises an error if the number of elements in the array is larger than 1, because the truth value of such arrays is ambiguous. Use .any() and .all() instead to be clear about what is meant in such cases. (If the number of elements is 0, the array evaluates to False.)"
   ]
  },
  {
   "cell_type": "markdown",
   "metadata": {},
   "source": [
    "### Unary operations:"
   ]
  },
  {
   "cell_type": "markdown",
   "metadata": {},
   "source": [
    "ndarray.__neg__(self, /)\t\n",
    ">-self\n",
    "\n",
    "ndarray.__pos__(self, /)\t\n",
    ">+self\n",
    "\n",
    "ndarray.__abs__(self)\n",
    "\n",
    "ndarray.__invert__(self, /)\t\n",
    ">~self"
   ]
  },
  {
   "cell_type": "markdown",
   "metadata": {},
   "source": [
    "### Arithmetic:"
   ]
  },
  {
   "cell_type": "markdown",
   "metadata": {},
   "source": [
    "ndarray.__add__(self, value, /)\t\n",
    ">Return self+value.\n",
    "\n",
    "ndarray.__sub__(self, value, /)\t\n",
    ">Return self-value.\n",
    "\n",
    "ndarray.__mul__(self, value, /)\t\n",
    ">Return self*value.\n",
    "\n",
    "ndarray.__truediv__(self, value, /)\t\n",
    ">Return self/value.\n",
    "\n",
    "ndarray.__floordiv__(self, value, /)\t\n",
    ">Return self//value.\n",
    "\n",
    "ndarray.__mod__(self, value, /)\t\n",
    ">Return self%value.\n",
    "\n",
    "ndarray.__divmod__(self, value, /)\t\n",
    ">Return divmod(self, value).\n",
    "\n",
    "ndarray.__pow__(self, value[, mod])\t\n",
    ">Return pow(self, value, mod).\n",
    "\n",
    "ndarray.__lshift__(self, value, /)\t\n",
    ">Return self<<value.\n",
    "\n",
    "ndarray.__rshift__(self, value, /)\t\n",
    ">Return self>>value.\n",
    "\n",
    "ndarray.__and__(self, value, /)\t\n",
    ">Return self&value.\n",
    "\n",
    "ndarray.__or__(self, value, /)\t\n",
    ">Return self|value.\n",
    "\n",
    "ndarray.__xor__(self, value, /)\t\n",
    ">Return self^value.\n",
    "\n",
    "Note:\n",
    ">-Any third argument to pow is silently ignored, as the underlying ufunc takes only two arguments.\n",
    "\n",
    ">-The three division operators are all defined; div is active by default, truediv is active when __future__ division is in effect.\n",
    "\n",
    ">-Because ndarray is a built-in type (written in C), the __r{op}__ special methods are not directly defined.\n",
    "\n",
    ">-The functions called to implement many arithmetic special methods for arrays can be modified using __array_ufunc__."
   ]
  },
  {
   "cell_type": "markdown",
   "metadata": {},
   "source": [
    "### Arithmetic, in-place:"
   ]
  },
  {
   "cell_type": "markdown",
   "metadata": {},
   "source": [
    "ndarray.__iadd__(self, value, /)\t\n",
    ">Return self+=value.\n",
    "\n",
    "ndarray.__isub__(self, value, /)\t\n",
    ">Return self-=value.\n",
    "\n",
    "ndarray.__imul__(self, value, /)\t\n",
    ">Return self*=value.\n",
    "\n",
    "ndarray.__itruediv__(self, value, /)\t\n",
    ">Return self/=value.\n",
    "\n",
    "ndarray.__ifloordiv__(self, value, /)\t\n",
    ">Return self//=value.\n",
    "\n",
    "ndarray.__imod__(self, value, /)\t\n",
    ">Return self%=value.\n",
    "\n",
    "ndarray.__ipow__(self, value, /)\t\n",
    ">Return self**=value.\n",
    "\n",
    "ndarray.__ilshift__(self, value, /)\t\n",
    ">Return self<<=value.\n",
    "\n",
    "ndarray.__irshift__(self, value, /)\t\n",
    ">Return self>>=value.\n",
    "\n",
    "ndarray.__iand__(self, value, /)\t\n",
    ">Return self&=value.\n",
    "\n",
    "ndarray.__ior__(self, value, /)\t\n",
    ">Return self|=value.\n",
    "\n",
    "ndarray.__ixor__(self, value, /)\t\n",
    ">Return self^=value.\n",
    "\n",
    "Warning:\n",
    ">In place operations will perform the calculation using the precision decided by the data type of the two operands, but will silently downcast the result (if necessary) so it can fit back into the array. Therefore, for mixed precision calculations, A {op}= B can be different than A = A {op} B. For example, suppose a = ones((3,3)). Then, a += 3j is different than a = a + 3j: while they both perform the same computation, a += 3 casts the result to fit back in a, whereas a = a + 3j re-binds the name a to the result."
   ]
  },
  {
   "cell_type": "markdown",
   "metadata": {},
   "source": [
    "### Matrix Multiplication:"
   ]
  },
  {
   "cell_type": "markdown",
   "metadata": {},
   "source": [
    "ndarray.__matmul__(self, value, /)\t\n",
    ">Return self@value.\n",
    "\n",
    "Note: \n",
    ">Matrix operators @ and @= were introduced in Python 3.5 following PEP465. NumPy 1.10.0 has a preliminary implementation of @ for testing purposes. Further documentation can be found in the matmul documentation."
   ]
  },
  {
   "cell_type": "markdown",
   "metadata": {},
   "source": [
    "## Special methods"
   ]
  },
  {
   "cell_type": "markdown",
   "metadata": {},
   "source": [
    "### For standard library functions:"
   ]
  },
  {
   "cell_type": "markdown",
   "metadata": {},
   "source": [
    "ndarray.__copy__()\t\n",
    ">Used if copy.copy is called on an array.\n",
    "\n",
    "ndarray.__deepcopy__()\t\n",
    ">Used if copy.deepcopy is called on an array.\n",
    "\n",
    "ndarray.__reduce__()\t\n",
    ">For pickling.\n",
    "\n",
    "ndarray.__setstate__(state, /)\t\n",
    ">For unpickling."
   ]
  },
  {
   "cell_type": "markdown",
   "metadata": {},
   "source": [
    "### Basic customization:"
   ]
  },
  {
   "cell_type": "markdown",
   "metadata": {},
   "source": [
    "ndarray.__new__(\\*args, \\*\\*kwargs)\t\n",
    ">Create and return a new object.\n",
    "\n",
    "ndarray.__array__()\t\n",
    ">Returns either a new reference to self if dtype is not given or a new array of provided data type if dtype is different from the current dtype of the array.\n",
    "\n",
    "ndarray.__array_wrap__()"
   ]
  },
  {
   "cell_type": "markdown",
   "metadata": {},
   "source": [
    "### Container customization: (see Indexing)"
   ]
  },
  {
   "cell_type": "markdown",
   "metadata": {},
   "source": [
    "ndarray.__len__(self, /)\t\n",
    ">Return len(self).\n",
    "\n",
    "ndarray.__getitem__(self, key, /)\t\n",
    ">Return self[key].\n",
    "\n",
    "ndarray.__setitem__(self, key, value, /)\t\n",
    ">Set self[key] to value.\n",
    "\n",
    "ndarray.__contains__(self, key, /)\t\n",
    ">Return key in self."
   ]
  },
  {
   "cell_type": "markdown",
   "metadata": {},
   "source": [
    "### Conversion; the operations int, float and complex:"
   ]
  },
  {
   "cell_type": "markdown",
   "metadata": {},
   "source": [
    "They work only on arrays that have one element in them and return the appropriate scalar.\n",
    "\n",
    "ndarray.__int__(self)\t\n",
    "ndarray.__float__(self)\t\n",
    "ndarray.__complex__()\t"
   ]
  },
  {
   "cell_type": "markdown",
   "metadata": {},
   "source": [
    "### String representations:"
   ]
  },
  {
   "cell_type": "markdown",
   "metadata": {},
   "source": [
    "ndarray.__str__(self, /)\t\n",
    ">Return str(self).\n",
    "\n",
    "ndarray.__repr__(self, /)\t\n",
    ">Return repr(self)."
   ]
  }
 ],
 "metadata": {
  "kernelspec": {
   "display_name": "Python 3",
   "language": "python",
   "name": "python3"
  },
  "language_info": {
   "codemirror_mode": {
    "name": "ipython",
    "version": 3
   },
   "file_extension": ".py",
   "mimetype": "text/x-python",
   "name": "python",
   "nbconvert_exporter": "python",
   "pygments_lexer": "ipython3",
   "version": "3.7.4"
  }
 },
 "nbformat": 4,
 "nbformat_minor": 2
}
